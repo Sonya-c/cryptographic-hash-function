{
 "cells": [
  {
   "cell_type": "markdown",
   "metadata": {},
   "source": [
    "# Merkle Damgard"
   ]
  },
  {
   "cell_type": "code",
   "execution_count": 1,
   "metadata": {},
   "outputs": [],
   "source": [
    "from typing import List"
   ]
  },
  {
   "cell_type": "code",
   "execution_count": null,
   "metadata": {},
   "outputs": [],
   "source": [
    "class MerkleDamgard:\n",
    "\n",
    "    def __init__(self, h, l):\n",
    "        self.h = h \n",
    "        self.L = l\n",
    "        self.IV = 0 \n",
    "        \n",
    "        \n",
    "    def H(self, m):\n",
    "        m = self.padding(m)\n",
    "        m = self.partition(m)\n",
    "\n",
    "        t = [] * len(m)\n",
    "        \n",
    "        t[0] = self.IV\n",
    "        for i in range(len(m)):\n",
    "            t[i] = self.h(t[i - 1], m[i])\n",
    "        \n",
    "        return t[len(t) - 1]\n",
    "\n",
    "    def padding(self, m: str) -> str:\n",
    "        return m\n",
    "\n",
    "    def partition(self, m: str) -> List[str]:\n",
    "        return []"
   ]
  },
  {
   "cell_type": "code",
   "execution_count": 2,
   "metadata": {},
   "outputs": [
    {
     "data": {
      "text/plain": [
       "18446744073709551615"
      ]
     },
     "execution_count": 2,
     "metadata": {},
     "output_type": "execute_result"
    }
   ],
   "source": [
    "2**64 - 1"
   ]
  },
  {
   "cell_type": "markdown",
   "metadata": {},
   "source": [
    "## Davies-Meyer"
   ]
  }
 ],
 "metadata": {
  "kernelspec": {
   "display_name": "Python 3",
   "language": "python",
   "name": "python3"
  },
  "language_info": {
   "codemirror_mode": {
    "name": "ipython",
    "version": 3
   },
   "file_extension": ".py",
   "mimetype": "text/x-python",
   "name": "python",
   "nbconvert_exporter": "python",
   "pygments_lexer": "ipython3",
   "version": "3.10.13"
  }
 },
 "nbformat": 4,
 "nbformat_minor": 2
}
